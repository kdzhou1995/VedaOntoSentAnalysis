{
 "cells": [
  {
   "cell_type": "code",
   "execution_count": null,
   "metadata": {},
   "outputs": [],
   "source": [
    "t0 = torch.tensor([])\n",
    "t1 = torch.tensor([[3.0,4.0,5.0]])\n",
    "t2 = torch.tensor([[6.0,8.0,10.0]])\n",
    "\n",
    "print(t1.shape)\n",
    "\n",
    "t = torch.concat((t0, t1, t2))\n",
    "\n",
    "print(f\"t is {t}\")\n",
    "\n",
    "torch.mean(t, 0)"
   ]
  }
 ],
 "metadata": {
  "language_info": {
   "name": "python"
  }
 },
 "nbformat": 4,
 "nbformat_minor": 2
}
