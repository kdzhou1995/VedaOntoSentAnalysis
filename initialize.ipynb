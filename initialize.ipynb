{
 "cells": [
  {
   "cell_type": "code",
   "execution_count": 87,
   "metadata": {},
   "outputs": [],
   "source": [
    "import initialize\n",
    "from config import Config\n",
    "from preprocessing import *\n",
    "from lexical_sources.slang import abbreviations\n",
    "\n",
    "from wordsegment import load, segment\n",
    "import csv\n",
    "import nltk\n",
    "from nltk.stem.porter import PorterStemmer\n",
    "from nltk.corpus import stopwords\n",
    "from autocorrect import Speller\n",
    "import csv\n",
    "import re"
   ]
  },
  {
   "cell_type": "code",
   "execution_count": 88,
   "metadata": {},
   "outputs": [],
   "source": [
    "load() # load words for word segment\n",
    "\n",
    "spell = Speller(lang='en')\n"
   ]
  },
  {
   "cell_type": "code",
   "execution_count": 97,
   "metadata": {},
   "outputs": [
    {
     "name": "stdout",
     "output_type": "stream",
     "text": [
      "['Red streak girlSo uh yeah she seems pretty chill but im too shy to talk to her', ' Im cool with my teacher so i was gonna ask for tht persons name but im too shy to do tht too ( afraid teacher is gonna think i like the person cause my teacher likes drama and makes assumptions like that daily) so i just sit in the back and draw her idk if rsg has seen them cause she passes by me multiple times during class but if she has she hasnt said anything bout it', ' Is tht weird', ' I mean its not like im lewding them they wear a hoodie and a lot of chains stuff like that so thats wht i draw', ' Sometimes i draw dresses but thats besides the point', ' Idk y i have a hard time talking to people maybe i should start taking my anti anxiety meds again', ' I dont mind being alone but sometimes i want just want a physical pressensce there', ' I dont think i explained things well i never do tbh i dont say a lot but theres a lot to say so it comes out it like a bukake of words']\n"
     ]
    }
   ],
   "source": [
    "\n",
    "data = open(Config.raw_data_path, \"r\", encoding=\"utf8\")\n",
    "\n",
    "\n",
    "next(data)\n",
    "no_line = 0\n",
    "\n",
    "for tweet_data in csv.reader(data):\n",
    "    if no_line == 1:\n",
    "        break\n",
    "    \n",
    "    id, raw_tweet, label = tweet_data[0], tweet_data[1], tweet_data[2]\n",
    "\n",
    "    # parse into sentences on punctuation marks\n",
    "\n",
    "    sentences = re.split(r\"[!?.]\", raw_tweet)\n",
    "\n",
    "    for sentence in sentences:\n",
    "        for word in sentence.split():\n",
    "            try:\n",
    "                \n",
    "\n",
    "    print(sentences)\n",
    "\n",
    "    no_line += 1\n"
   ]
  },
  {
   "cell_type": "code",
   "execution_count": null,
   "metadata": {},
   "outputs": [],
   "source": []
  }
 ],
 "metadata": {
  "kernelspec": {
   "display_name": "PyTorch",
   "language": "python",
   "name": "python3"
  },
  "language_info": {
   "codemirror_mode": {
    "name": "ipython",
    "version": 3
   },
   "file_extension": ".py",
   "mimetype": "text/x-python",
   "name": "python",
   "nbconvert_exporter": "python",
   "pygments_lexer": "ipython3",
   "version": "3.10.9"
  }
 },
 "nbformat": 4,
 "nbformat_minor": 2
}
