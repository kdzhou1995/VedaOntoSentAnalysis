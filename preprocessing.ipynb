{
 "cells": [
  {
   "cell_type": "code",
   "execution_count": 1,
   "metadata": {},
   "outputs": [],
   "source": [
    "import preprocessing\n",
    "\n",
    "import nltk\n",
    "from nltk.corpus import brown as corpus\n",
    "\n",
    "\n"
   ]
  },
  {
   "cell_type": "markdown",
   "metadata": {},
   "source": [
    "### Main workflow for proprocessing and building lookup tables"
   ]
  },
  {
   "cell_type": "markdown",
   "metadata": {},
   "source": [
    "#### Build lookup tables for nltk expansion corpuses"
   ]
  },
  {
   "cell_type": "code",
   "execution_count": 2,
   "metadata": {},
   "outputs": [
    {
     "data": {
      "text/plain": [
       "2621613"
      ]
     },
     "execution_count": 2,
     "metadata": {},
     "output_type": "execute_result"
    }
   ],
   "source": [
    "len(corpus.words())"
   ]
  },
  {
   "cell_type": "code",
   "execution_count": 3,
   "metadata": {},
   "outputs": [
    {
     "ename": "AttributeError",
     "evalue": "'PlaintextCorpusReader' object has no attribute 'instances'",
     "output_type": "error",
     "traceback": [
      "\u001b[1;31m---------------------------------------------------------------------------\u001b[0m",
      "\u001b[1;31mAttributeError\u001b[0m                            Traceback (most recent call last)",
      "Input \u001b[1;32mIn [3]\u001b[0m, in \u001b[0;36m<module>\u001b[1;34m\u001b[0m\n\u001b[1;32m----> 1\u001b[0m \u001b[38;5;28;01mfor\u001b[39;00m inst \u001b[38;5;129;01min\u001b[39;00m \u001b[43mcorpus\u001b[49m\u001b[38;5;241;43m.\u001b[39;49m\u001b[43minstances\u001b[49m(\u001b[38;5;124m'\u001b[39m\u001b[38;5;124mdefeat.pos\u001b[39m\u001b[38;5;124m'\u001b[39m)[:\u001b[38;5;241m30\u001b[39m]:\n\u001b[0;32m      2\u001b[0m     p \u001b[38;5;241m=\u001b[39m inst\u001b[38;5;241m.\u001b[39mposition\n\u001b[0;32m      3\u001b[0m     left \u001b[38;5;241m=\u001b[39m \u001b[38;5;124m'\u001b[39m\u001b[38;5;124m \u001b[39m\u001b[38;5;124m'\u001b[39m\u001b[38;5;241m.\u001b[39mjoin(w \u001b[38;5;28;01mfor\u001b[39;00m (w,t) \u001b[38;5;129;01min\u001b[39;00m inst\u001b[38;5;241m.\u001b[39mcontext[p\u001b[38;5;241m-\u001b[39m\u001b[38;5;241m2\u001b[39m:p])\n",
      "\u001b[1;31mAttributeError\u001b[0m: 'PlaintextCorpusReader' object has no attribute 'instances'"
     ]
    }
   ],
   "source": [
    "for inst in corpus.instances('defeat.pos')[:30]:\n",
    "    p = inst.position\n",
    "    left = ' '.join(w for (w,t) in inst.context[p-2:p])\n",
    "    word = ' '.join(w for (w,t) in inst.context[p:p+1])\n",
    "    right = ' '.join(w for (w,t) in inst.context[p+1:p+3])\n",
    "    senses = ' '.join(inst.senses)\n",
    "    print('%20s |%10s | %-15s -> %s' % (left, word, right, senses))"
   ]
  },
  {
   "cell_type": "code",
   "execution_count": null,
   "metadata": {},
   "outputs": [],
   "source": []
  }
 ],
 "metadata": {
  "kernelspec": {
   "display_name": "PyTorch",
   "language": "python",
   "name": "python3"
  },
  "language_info": {
   "codemirror_mode": {
    "name": "ipython",
    "version": 3
   },
   "file_extension": ".py",
   "mimetype": "text/x-python",
   "name": "python",
   "nbconvert_exporter": "python",
   "pygments_lexer": "ipython3",
   "version": "3.9.7"
  }
 },
 "nbformat": 4,
 "nbformat_minor": 2
}
